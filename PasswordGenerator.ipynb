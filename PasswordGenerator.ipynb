{
 "cells": [
  {
   "cell_type": "code",
   "execution_count": 1,
   "id": "ed90fdb5-a8ac-4001-b4ba-bf8a863f51aa",
   "metadata": {},
   "outputs": [],
   "source": [
    "# fg stands for Foreground colors\n",
    "# pack organize widgets in horizantal and vertical boxes that are limited to left, right, top, bottom position.\n",
    "# place widgets in a two dimensional grid using x and y absolute coordinates\n",
    "\n",
    "from tkinter import *\n",
    "from tkinter.ttk import Combobox\n",
    "from tkinter import messagebox\n",
    "import string\n",
    "import random\n",
    "root = Tk()\n",
    "root.geometry(\"500x500\")\n",
    "root.title(\"Password Generator\")\n",
    "root.config(bg=\"black\")\n",
    "def password_generate():\n",
    "    try:\n",
    "        length_password=solidboss.get()\n",
    "        small_letters=string.ascii_lowercase\n",
    "        capital_letters=string.ascii_uppercase\n",
    "        digits=string.digits\n",
    "        special_character=string.punctuation\n",
    "        all_list=[]\n",
    "        all_list.extend(list(small_letters))\n",
    "        all_list.extend(list(capital_letters))\n",
    "        all_list.extend(list(digits))\n",
    "        all_list.extend(list(special_character))\n",
    "        random.shuffle(all_list)\n",
    "        password.set(\"\".join(all_list[0:length_password])) # Return for string\n",
    "    except:\n",
    "        messagebox.askretrycancel(\" A Problem Has Been occured\",\"Please Try Again\")\n",
    "\n",
    "all_no={\"1\":\"1\",\"2\":\"2\",\"3\":\"3\",\"4\":\"4\",\"5\":\"5\",\n",
    "        \"6\":\"6\",\"7\":\"7\",\"8\":\"8\",\"9\":\"9\",\"10\":\"10\",\n",
    "        \"11\":\"11\", \"12\":\"12\",\"13\":\"13\",\"14\":\"14\",\"15\":\"15\"}\n",
    "Title=Label(root,text=\"Password Generator\",bg=\"white\",fg=\"black\",font=(\"futura\",16,\"bold\"))\n",
    "Title.pack(anchor=\"center\",pady=\"25px\")\n",
    "length=Label(root,text=\"Select the Length of your password:\",bg=\"white\",fg=\"black\",font=(\"ubuntu\",12))\n",
    "length.place(x=\"20px\",y=\"70px\")\n",
    "\n",
    "\n",
    "solidboss=IntVar()\n",
    "selector=Combobox(root, textvariable=solidboss,state=\"readonly\")\n",
    "selector['values']=[l for l in all_no.keys()]\n",
    "selector.place(x=\"230px\",y=\"72px\")\n",
    "\n",
    "\n",
    "generate_btn=Button(root,text=\"Generate Password:\", bg=\"orange\",fg=\"black\",font=(\"ubuntu\",14),cursor=\"hand2\",command=password_generate)\n",
    "generate_btn.pack(anchor=\"center\",pady=\"50px\")\n",
    "\n",
    "result_label=Label(root,text=\"generated Password Here:\",bg=\"white\",fg=\"black\",font=(\"ubuntu\",12))\n",
    "result_label.place(x=\"20px\",y=\"200px\")\n",
    "password=StringVar()\n",
    "password_final=Entry(root,textvariable=password, state=\"readonly\",fg=\"blue\",font=(\"ubuntu\",15))\n",
    "password_final.place(x=\"200px\",y=\"200px\")\n",
    "root.mainloop()"
   ]
  },
  {
   "cell_type": "code",
   "execution_count": null,
   "id": "4d246171-2652-4caf-81ec-d8c721fe9406",
   "metadata": {},
   "outputs": [],
   "source": []
  },
  {
   "cell_type": "code",
   "execution_count": null,
   "id": "2fb3c385-2b02-4430-8662-7b5e418740ab",
   "metadata": {},
   "outputs": [],
   "source": []
  }
 ],
 "metadata": {
  "kernelspec": {
   "display_name": "Python 3 (ipykernel)",
   "language": "python",
   "name": "python3"
  },
  "language_info": {
   "codemirror_mode": {
    "name": "ipython",
    "version": 3
   },
   "file_extension": ".py",
   "mimetype": "text/x-python",
   "name": "python",
   "nbconvert_exporter": "python",
   "pygments_lexer": "ipython3",
   "version": "3.11.6"
  }
 },
 "nbformat": 4,
 "nbformat_minor": 5
}
